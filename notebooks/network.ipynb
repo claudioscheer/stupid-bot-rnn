{
 "cells": [
  {
   "cell_type": "markdown",
   "metadata": {},
   "source": [
    "## Network"
   ]
  },
  {
   "cell_type": "markdown",
   "metadata": {},
   "source": [
    "This section describes the implemented network in details. The network uses a single recurrent layer. RNN, unlike LSTM, cannot handle long-term dependencies. However, the dataset has short question and answers, and the idea is just to test how the performance of the network."
   ]
  },
  {
   "cell_type": "markdown",
   "metadata": {},
   "source": [
    "This is not a good approach to deal with a bot. Maybe I should use some kind of tokenization using NLP."
   ]
  },
  {
   "cell_type": "code",
   "execution_count": null,
   "metadata": {},
   "outputs": [],
   "source": [
    "import torch\n",
    "import torch.nn as nn\n",
    "\n",
    "\n",
    "class RNNModel(nn.Module):\n",
    "    def __init__(self, input_size, output_size):\n",
    "        super(RNNModel, self).__init__()\n",
    "\n",
    "        # Defining some parameters.\n",
    "        self.input_size = input_size\n",
    "        self.output_size = output_size\n",
    "        self.hidden_dim = 32\n",
    "        self.n_layers = 1\n",
    "\n",
    "        # region Defining the layers.\n",
    "        # RNN layer.\n",
    "        self.rnn = nn.RNN(\n",
    "            self.input_size,\n",
    "            self.hidden_dim,\n",
    "            self.n_layers,\n",
    "            batch_first=True,\n",
    "            nonlinearity=\"relu\",\n",
    "        )\n",
    "        # Fully connected layer.\n",
    "        self.fc = nn.Linear(self.hidden_dim, self.output_size)\n",
    "        # endregion\n",
    "\n",
    "    def forward(self, x):\n",
    "        batch_size = x.size(axis=0)\n",
    "\n",
    "        # Initializing hidden state for first input using method defined below.\n",
    "        hidden = self.init_hidden(batch_size)  # (1, 1, 32)\n",
    "\n",
    "        # Passing in the input and hidden state into the model and obtaining outputs.\n",
    "        out, hidden = self.rnn(\n",
    "            x, hidden\n",
    "        )  # input => (3, 24, 24), (1, 1, 32) | output => (3, 24, 32), (1, 1, 32)\n",
    "\n",
    "        # Reshaping the outputs such that it can be fit into the fully connected layer.\n",
    "        out = out.contiguous().view(-1, self.hidden_dim)  # (72, 32)\n",
    "        out = self.fc(out)  # (72, 24)\n",
    "\n",
    "        return out, hidden\n",
    "\n",
    "    def init_hidden(self, batch_size):\n",
    "        # This method generates the first hidden state of zeros which we will use in the forward pass.\n",
    "        hidden = torch.zeros(self.n_layers, batch_size, self.hidden_dim).cuda()\n",
    "        return hidden"
   ]
  }
 ],
 "metadata": {
  "kernelspec": {
   "display_name": "Python 3",
   "language": "python",
   "name": "python3"
  },
  "language_info": {
   "codemirror_mode": {
    "name": "ipython",
    "version": 3
   },
   "file_extension": ".py",
   "mimetype": "text/x-python",
   "name": "python",
   "nbconvert_exporter": "python",
   "pygments_lexer": "ipython3",
   "version": "3.8.2"
  }
 },
 "nbformat": 4,
 "nbformat_minor": 4
}
